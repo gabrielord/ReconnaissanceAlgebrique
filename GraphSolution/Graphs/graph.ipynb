{
 "cells": [
  {
   "cell_type": "code",
   "execution_count": 2,
   "metadata": {},
   "outputs": [
    {
     "name": "stdout",
     "output_type": "stream",
     "text": [
      "Requirement already satisfied: sympy in ./.venv/lib/python3.11/site-packages (1.12)\n",
      "Requirement already satisfied: mpmath>=0.19 in ./.venv/lib/python3.11/site-packages (from sympy) (1.3.0)\n",
      "Collecting antlr4-python3-runtime==4.10\n",
      "  Using cached antlr4_python3_runtime-4.10-py3-none-any.whl\n",
      "Installing collected packages: antlr4-python3-runtime\n",
      "  Attempting uninstall: antlr4-python3-runtime\n",
      "    Found existing installation: antlr4-python3-runtime 4.7.2\n",
      "    Uninstalling antlr4-python3-runtime-4.7.2:\n",
      "      Successfully uninstalled antlr4-python3-runtime-4.7.2\n",
      "\u001b[31mERROR: pip's dependency resolver does not currently take into account all the packages that are installed. This behaviour is the source of the following dependency conflicts.\n",
      "latex2sympy2 1.9.1 requires antlr4-python3-runtime==4.7.2, but you have antlr4-python3-runtime 4.10 which is incompatible.\u001b[0m\u001b[31m\n",
      "\u001b[0mSuccessfully installed antlr4-python3-runtime-4.10\n",
      "Requirement already satisfied: latex2sympy2 in ./.venv/lib/python3.11/site-packages (1.9.1)\n",
      "Requirement already satisfied: sympy>=1.4 in ./.venv/lib/python3.11/site-packages (from latex2sympy2) (1.12)\n",
      "Collecting antlr4-python3-runtime==4.7.2 (from latex2sympy2)\n",
      "  Using cached antlr4_python3_runtime-4.7.2-py3-none-any.whl\n",
      "Requirement already satisfied: mpmath>=0.19 in ./.venv/lib/python3.11/site-packages (from sympy>=1.4->latex2sympy2) (1.3.0)\n",
      "Installing collected packages: antlr4-python3-runtime\n",
      "  Attempting uninstall: antlr4-python3-runtime\n",
      "    Found existing installation: antlr4-python3-runtime 4.10\n",
      "    Uninstalling antlr4-python3-runtime-4.10:\n",
      "      Successfully uninstalled antlr4-python3-runtime-4.10\n",
      "Successfully installed antlr4-python3-runtime-4.7.2\n"
     ]
    }
   ],
   "source": [
    "!pip install sympy\n",
    "!pip install antlr4-python3-runtime==4.10\n",
    "!pip install latex2sympy2"
   ]
  },
  {
   "cell_type": "code",
   "execution_count": 3,
   "metadata": {},
   "outputs": [],
   "source": [
    "from sympy.parsing.latex import parse_latex\n",
    "from sympy import Symbol, Integer, Pow, Mul, Add, srepr, symbols, sympify, S\n",
    "from sympy.core.basic import Basic"
   ]
  },
  {
   "cell_type": "code",
   "execution_count": 5,
   "metadata": {},
   "outputs": [],
   "source": [
    "x, y, z = symbols('x y z')"
   ]
  },
  {
   "cell_type": "markdown",
   "metadata": {},
   "source": [
    "- adciona o argumento\n",
    "- se abrir parênteses, adciona um nó na esquerda\n",
    "- conta a profundidade q ta na árvore, para voltar depois\n",
    "- da para contar a profundidade com o número de parênteses que abriu e fechou, sem considerar o parênteses de Integer e Symbol"
   ]
  },
  {
   "cell_type": "code",
   "execution_count": 10,
   "metadata": {},
   "outputs": [
    {
     "name": "stdout",
     "output_type": "stream",
     "text": [
      "Add\n",
      "  Pow\n",
      "    Symbol\n",
      "      'x'\n",
      "    Integer\n",
      "      2\n",
      "  Mul\n",
      "    Symbol\n",
      "      'x'\n",
      "    Symbol\n",
      "      'y'\n",
      "  Mul\n",
      "    Integer\n",
      "      5\n",
      "    Pow\n",
      "      Symbol\n",
      "        'z'\n",
      "      Integer\n",
      "        3\n"
     ]
    }
   ],
   "source": [
    "import ast\n",
    "\n",
    "expr = x**2 + x*y + 5*z**3\n",
    "pseudo_tree = srepr(expr)\n",
    "\n",
    "class Node:\n",
    "    def __init__(self, name):\n",
    "        self.name = name\n",
    "        self.children = []\n",
    "\n",
    "def srepr_to_tree(srepr):\n",
    "    tree = ast.parse(srepr).body[0].value\n",
    "    return build_tree(tree)\n",
    "\n",
    "def build_tree(node):\n",
    "    if isinstance(node, ast.Name):\n",
    "        return Node(node.id)\n",
    "    elif isinstance(node, ast.Call):\n",
    "        parent = Node(node.func.id)\n",
    "        for arg in node.args:\n",
    "            parent.children.append(build_tree(arg))\n",
    "        return parent\n",
    "    elif isinstance(node, ast.Constant):\n",
    "        return Node(repr(node.value))  # Use repr() to get the string representation of the value\n",
    "    else:\n",
    "        return Node(str(node))\n",
    "\n",
    "def print_tree(node, indent=0):\n",
    "    print(\"  \" * indent + node.name)\n",
    "    for child in node.children:\n",
    "        print_tree(child, indent + 1)\n",
    "\n",
    "tree = srepr_to_tree(pseudo_tree)\n",
    "print_tree(tree)"
   ]
  },
  {
   "cell_type": "code",
   "execution_count": 11,
   "metadata": {},
   "outputs": [
    {
     "name": "stdout",
     "output_type": "stream",
     "text": [
      "<class 'tuple'>\n",
      "<class 'tuple'>\n",
      "<class 'tuple'>\n",
      "<class 'tuple'>\n",
      "<class 'tuple'>\n"
     ]
    }
   ],
   "source": [
    "from sympy import symbols, S\n",
    "from sympy.core.basic import Basic\n",
    "\n",
    "# Define the symbols\n",
    "x, y, z = symbols('x y z')\n",
    "\n",
    "# Define the expression\n",
    "expr = x**2 + x*y + 5*z**3\n",
    "\n",
    "# Define a simple Tree node\n",
    "class TreeNode:\n",
    "    def __init__(self, value):\n",
    "        self.value = value  # The function or value the node represents\n",
    "        self.children = []  # List of child nodes\n",
    "\n",
    "    def add_child(self, child):\n",
    "        self.children.append(child)\n",
    "\n",
    "    def __repr__(self, level=0):\n",
    "        ret = \"\\t\"*level+repr(self.value)+\"\\n\"\n",
    "        for child in self.children:\n",
    "            ret += child.__repr__(level+1)\n",
    "        return ret\n",
    "\n",
    "# Function to build a tree from a SymPy expression\n",
    "def build_tree(expr, parent=None):\n",
    "    if isinstance(expr, Basic):\n",
    "        if expr.is_Atom:\n",
    "            # If the expression is an atom (i.e., cannot be decomposed further), it becomes a leaf node\n",
    "            node = TreeNode(str(expr))\n",
    "        else:\n",
    "            # If the expression is not an atom, it is a function or operation with arguments\n",
    "            node = TreeNode(str(expr.func))\n",
    "            print(type(expr.args))\n",
    "            for arg in expr.args:\n",
    "                child_node = build_tree(arg, node)\n",
    "                node.add_child(child_node)\n",
    "    else:\n",
    "        # For handling numbers and other simple types not covered by Basic\n",
    "        node = TreeNode(str(expr))\n",
    "    return node\n",
    "\n",
    "# Build the tree from the expression\n",
    "tree = build_tree(expr)\n",
    "# print(tree)\n"
   ]
  },
  {
   "cell_type": "code",
   "execution_count": 6,
   "metadata": {},
   "outputs": [],
   "source": [
    "from sympy import simplify, srepr, Eq\n",
    "from latex2sympy2 import latex2sympy, latex2latex\n",
    "from difflib import SequenceMatcher\n",
    "\n",
    "\n",
    "def simplify_latex_expression(latex_expr):\n",
    "    return latex2sympy(latex2latex(latex_expr))\n",
    "\n",
    "def simplify_sympy_expression(sympy_expr):\n",
    "    return simplify(sympy_expr.doit().doit())\n",
    "\n",
    "def simpy_to_tree(sympy_expr):\n",
    "    return srepr(simplify_sympy_expression(sympy_expr))\n",
    "\n",
    "def latex_to_tree(latex_expr):\n",
    "    return srepr(simplify_latex_expression(latex_expr))\n"
   ]
  },
  {
   "cell_type": "code",
   "execution_count": 18,
   "metadata": {},
   "outputs": [
    {
     "name": "stdout",
     "output_type": "stream",
     "text": [
      "a*b + y**2\n",
      "<class 'sympy.core.add.Add'>\n",
      "\t<class 'sympy.core.mul.Mul'>\n",
      "\t\t'a'\n",
      "\t\t'b'\n",
      "\t<class 'sympy.core.power.Pow'>\n",
      "\t\t'2'\n",
      "\t\t'y'\n",
      "\n"
     ]
    }
   ],
   "source": [
    "# Input string representing the expression in SymPy format\n",
    "input_str = \"Add(Mul(Symbol('b'), Symbol('a')), Pow(Symbol('y'), Integer(2)))\"\n",
    "\n",
    "# Evaluate the string to get the SymPy expression object\n",
    "expr = sympify(input_str)\n",
    "print(expr)\n",
    "# Define a simple Tree node\n",
    "class TreeNode:\n",
    "    def __init__(self, value):\n",
    "        # If the value is a class, extract just the class name (function name)\n",
    "        if isinstance(value, Basic):\n",
    "            self.value = value.__class__.__name__\n",
    "        else:\n",
    "            self.value = value\n",
    "        self.children = []  # List of child nodes\n",
    "\n",
    "    def add_child(self, child):\n",
    "        self.children.append(child)\n",
    "\n",
    "    def __repr__(self, level=0):\n",
    "        ret = \"\\t\"*level+repr(self.value)+\"\\n\"\n",
    "        for child in self.children:\n",
    "            ret += child.__repr__(level+1)\n",
    "        return ret\n",
    "\n",
    "# Function to build a tree from a SymPy expression\n",
    "def build_tree(expr, parent=None):\n",
    "    if isinstance(expr, Basic):\n",
    "        if expr.is_Atom:\n",
    "            # If the expression is an atom (i.e., cannot be decomposed further), it becomes a leaf node\n",
    "            node = TreeNode(str(expr))\n",
    "        else:\n",
    "            # If the expression is not an atom, it is a function or operation with arguments\n",
    "            node = TreeNode(expr.func)  # Pass the func directly\n",
    "            args = sorted(expr.args, key=lambda x: str(x))\n",
    "            for arg in args:\n",
    "                child_node = build_tree(arg, node)\n",
    "                node.add_child(child_node)\n",
    "    else:\n",
    "        # For handling numbers and other simple types not covered by Basic\n",
    "        node = TreeNode(str(expr))\n",
    "    return node\n",
    "\n",
    "# Build the tree from the expression\n",
    "tree = build_tree(expr)\n",
    "print(tree)"
   ]
  }
 ],
 "metadata": {
  "kernelspec": {
   "display_name": "Python 3",
   "language": "python",
   "name": "python3"
  },
  "language_info": {
   "codemirror_mode": {
    "name": "ipython",
    "version": 3
   },
   "file_extension": ".py",
   "mimetype": "text/x-python",
   "name": "python",
   "nbconvert_exporter": "python",
   "pygments_lexer": "ipython3",
   "version": "3.11.8"
  }
 },
 "nbformat": 4,
 "nbformat_minor": 2
}
