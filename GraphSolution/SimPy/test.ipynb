{
 "cells": [
  {
   "cell_type": "markdown",
   "metadata": {},
   "source": [
    "### Requirements"
   ]
  },
  {
   "cell_type": "code",
   "execution_count": 1,
   "metadata": {},
   "outputs": [],
   "source": [
    "import json\n",
    "import os\n",
    "import re\n",
    "import pandas as pd\n",
    "\n",
    "from latex2sympy2 import latex2sympy, latex2latex\n",
    "from sympy import simplify, srepr, Eq\n",
    "from sympy.core.basic import Basic\n",
    "from zss import simple_distance, Node\n",
    "from PrettyPrint import PrettyPrintTree\n",
    "\n",
    "from main import *"
   ]
  },
  {
   "cell_type": "markdown",
   "metadata": {},
   "source": [
    "### Constants"
   ]
  },
  {
   "cell_type": "code",
   "execution_count": 2,
   "metadata": {},
   "outputs": [],
   "source": [
    "BASE_PATH = os.path.dirname(os.path.abspath(\"__file__\"))\n",
    "EXAMPLE_DATA_FILE = \"data_example.json\"\n",
    "DATA_FILE = \"data.json\""
   ]
  },
  {
   "cell_type": "markdown",
   "metadata": {},
   "source": [
    "### Read data"
   ]
  },
  {
   "cell_type": "code",
   "execution_count": 3,
   "metadata": {},
   "outputs": [],
   "source": [
    "# JSON example tree data\n",
    "with open(os.path.join(BASE_PATH, EXAMPLE_DATA_FILE), 'r') as file:\n",
    "    example_json_data = json.load(file)\n",
    "tree1 = example_json_data.get(\"exprl\", {}) # Template answer\n",
    "tree2 = example_json_data.get(\"expr2\", {}) # Right answer\n",
    "tree3 = example_json_data.get(\"expr3\", {}) # Wrong answer\n",
    "\n",
    "# Full JSON data\n",
    "with open(os.path.join(BASE_PATH, DATA_FILE), 'r') as file:\n",
    "    json_data = json.load(file)\n",
    "\n",
    "# Latex string data\n",
    "expr1 = r\"\\frac{d}{dx}(x^2 + 2*x) \\times \\int x \\,dx\"\n",
    "expr2 = r\"x^3 + x^2\" # Correct would be x^3 + x^2\n",
    "expr3 = r\"\\frac{(x^3 + x^3)}{\\tan(10)}\""
   ]
  },
  {
   "cell_type": "markdown",
   "metadata": {},
   "source": [
    "### Test of similarity tree analysis"
   ]
  },
  {
   "cell_type": "code",
   "execution_count": 4,
   "metadata": {},
   "outputs": [
    {
     "name": "stdout",
     "output_type": "stream",
     "text": [
      "Expression tree similarity: 100.0%\n"
     ]
    }
   ],
   "source": [
    "tree1 = latex_to_tree(expr1)\n",
    "tree2 = latex_to_tree(expr2)\n",
    "expression_tree_similarity = get_tree_sequence_similarity(tree1, tree2)\n",
    "print(f\"Expression tree similarity: {round(expression_tree_similarity*100, 0)}%\")"
   ]
  },
  {
   "cell_type": "markdown",
   "metadata": {},
   "source": [
    "### Test Bert text similarity"
   ]
  },
  {
   "cell_type": "code",
   "execution_count": 5,
   "metadata": {},
   "outputs": [
    {
     "name": "stdout",
     "output_type": "stream",
     "text": [
      "Expression tree similarity: 100.0%\n"
     ]
    }
   ],
   "source": [
    "from transformers import BertModel, BertTokenizer\n",
    "\n",
    "# Carregar o modelo BERT pré-treinado e o tokenizador\n",
    "modelo = BertModel.from_pretrained('bert-base-uncased')\n",
    "tokenizer = BertTokenizer.from_pretrained('bert-base-uncased')\n",
    "\n",
    "emb1 = get_bert_embeddings(latex2latex(expr1), modelo, tokenizer)\n",
    "emb2 = get_bert_embeddings(latex2latex(expr2), modelo, tokenizer)\n",
    "print(f\"Expression tree similarity: {round(get_text_similarity(emb1, emb2)*100,0)}%\")"
   ]
  },
  {
   "cell_type": "markdown",
   "metadata": {},
   "source": [
    "### Tree edit distance (Zhang-Shasha)"
   ]
  },
  {
   "cell_type": "code",
   "execution_count": 6,
   "metadata": {},
   "outputs": [],
   "source": [
    "pt = PrettyPrintTree(lambda x: x.children, lambda x: x.label)"
   ]
  },
  {
   "cell_type": "code",
   "execution_count": 7,
   "metadata": {},
   "outputs": [],
   "source": [
    "# Latex string data\n",
    "\n",
    "expr1 = r\"\\frac{d}{dx}(x^2 + 2*x) \\times \\int x \\,dx\"\n",
    "expr2 = r\"x^3 + x^2\" # Correct would be x^3 + x^2\n",
    "expr3 = r\"\\frac{(x^3 + x^3)}{\\tan(10)}\""
   ]
  },
  {
   "cell_type": "code",
   "execution_count": 8,
   "metadata": {},
   "outputs": [],
   "source": [
    "# Build the tree from the expression\n",
    "tree1 = build_tree(simplify_latex_expression(expr1))\n",
    "tree2 = build_tree(simplify_latex_expression(expr2))\n",
    "tree3 = build_tree(simplify_latex_expression(expr3))"
   ]
  },
  {
   "cell_type": "code",
   "execution_count": 9,
   "metadata": {},
   "outputs": [
    {
     "name": "stdout",
     "output_type": "stream",
     "text": [
      "                 \u001b[100m <class 'sympy.core.mul.Mul'> \u001b[0m\n",
      "               ┌───────────────┴───────────────┐\n",
      "\u001b[100m <class 'sympy.core.power.Pow'> \u001b[0m \u001b[100m <class 'sympy.core.add.Add'> \u001b[0m\n",
      "             ┌─┴─┐                           ┌─┴─┐             \n",
      "            \u001b[100m x \u001b[0m \u001b[100m 2 \u001b[0m                         \u001b[100m x \u001b[0m \u001b[100m 1 \u001b[0m\n"
     ]
    }
   ],
   "source": [
    "pt(tree1)"
   ]
  },
  {
   "cell_type": "code",
   "execution_count": 10,
   "metadata": {},
   "outputs": [
    {
     "name": "stdout",
     "output_type": "stream",
     "text": [
      "                 \u001b[100m <class 'sympy.core.mul.Mul'> \u001b[0m\n",
      "               ┌───────────────┴───────────────┐\n",
      "\u001b[100m <class 'sympy.core.power.Pow'> \u001b[0m \u001b[100m <class 'sympy.core.add.Add'> \u001b[0m\n",
      "             ┌─┴─┐                           ┌─┴─┐             \n",
      "            \u001b[100m x \u001b[0m \u001b[100m 2 \u001b[0m                         \u001b[100m x \u001b[0m \u001b[100m 1 \u001b[0m\n"
     ]
    }
   ],
   "source": [
    "pt(tree2) "
   ]
  },
  {
   "cell_type": "code",
   "execution_count": 11,
   "metadata": {},
   "outputs": [
    {
     "name": "stdout",
     "output_type": "stream",
     "text": [
      "                     \u001b[100m <class 'sympy.core.mul.Mul'> \u001b[0m\n",
      "              ┌────────────────────┴────────────────────┐\n",
      "\u001b[100m <class 'sympy.core.mul.Mul'> \u001b[0m           \u001b[100m <class 'sympy.core.power.Pow'> \u001b[0m\n",
      "     ┌────────┴────────┐                              ┌─┴──┐             \n",
      "    \u001b[100m 2 \u001b[0m \u001b[100m <class 'sympy.core.power.Pow'> \u001b[0m            \u001b[100m tan \u001b[0m \u001b[100m -1 \u001b[0m           \n",
      "                     ┌─┴─┐                            |                  \n",
      "                    \u001b[100m x \u001b[0m \u001b[100m 3 \u001b[0m                          \u001b[100m 10 \u001b[0m\n"
     ]
    }
   ],
   "source": [
    "pt(tree3)"
   ]
  },
  {
   "cell_type": "code",
   "execution_count": 12,
   "metadata": {},
   "outputs": [
    {
     "data": {
      "text/plain": [
       "(0.0, 7.0, 7.0)"
      ]
     },
     "execution_count": 12,
     "metadata": {},
     "output_type": "execute_result"
    }
   ],
   "source": [
    "simple_distance(tree1, tree2), simple_distance(tree1, tree3), simple_distance(tree2, tree3)"
   ]
  },
  {
   "cell_type": "markdown",
   "metadata": {},
   "source": [
    "### Caspa Dataset "
   ]
  },
  {
   "cell_type": "code",
   "execution_count": 13,
   "metadata": {},
   "outputs": [],
   "source": [
    "df = pd.read_csv('test_datagen.csv')\n",
    "df_test = df[:50].copy(deep=True)"
   ]
  },
  {
   "cell_type": "code",
   "execution_count": 14,
   "metadata": {},
   "outputs": [],
   "source": [
    "def remove_format_operations(expr):\n",
    "    return re.sub(r\"\\\\left|\\\\right\", \"\", expr)"
   ]
  },
  {
   "cell_type": "code",
   "execution_count": 15,
   "metadata": {},
   "outputs": [],
   "source": [
    "# Apply simplify_latex_expression() to columns expr_l and expr_r\n",
    "df_test['expr_l'] = df_test['expr_l'].apply(remove_format_operations)\n",
    "df_test['expr_r'] = df_test['expr_r'].apply(remove_format_operations)"
   ]
  },
  {
   "cell_type": "code",
   "execution_count": 16,
   "metadata": {},
   "outputs": [],
   "source": [
    "# Apply simplify_latex_expression() to columns expr_l and expr_r\n",
    "df_test['expr_l'] = df_test['expr_l'].apply(simplify_latex_expression)\n",
    "df_test['expr_r'] = df_test['expr_r'].apply(simplify_latex_expression)"
   ]
  },
  {
   "cell_type": "code",
   "execution_count": 17,
   "metadata": {},
   "outputs": [],
   "source": [
    "# Build trees for simplified expressions in columns expr_l and expr_r\n",
    "\n",
    "df_test['tree_l'] = df_test['expr_l'].apply(build_tree)\n",
    "df_test['tree_r'] = df_test['expr_r'].apply(build_tree)"
   ]
  },
  {
   "cell_type": "code",
   "execution_count": 18,
   "metadata": {},
   "outputs": [],
   "source": [
    "# Calculate tree scores using simple_distance()\n",
    "df_test['tree_score'] = df_test.apply(lambda row: simple_distance(row['tree_l'], row['tree_r']), axis=1)\n",
    "\n",
    "# Save the updated DataFrame to CSV\n",
    "df_test.to_csv('output.csv', index=False)"
   ]
  },
  {
   "cell_type": "code",
   "execution_count": 19,
   "metadata": {},
   "outputs": [
    {
     "data": {
      "text/latex": [
       "$\\displaystyle \\tan{\\left(x \\right)}$"
      ],
      "text/plain": [
       "tan(x)"
      ]
     },
     "execution_count": 19,
     "metadata": {},
     "output_type": "execute_result"
    }
   ],
   "source": [
    "simplify_latex_expression(r\"\\tan(x)\")"
   ]
  },
  {
   "cell_type": "code",
   "execution_count": 20,
   "metadata": {},
   "outputs": [
    {
     "name": "stdout",
     "output_type": "stream",
     "text": [
      "                           \u001b[100m <class 'sympy.core.add.Add'> \u001b[0m\n",
      "              ┌──────────────────────────┴───────────────────────────┐\n",
      "\u001b[100m <class 'sympy.core.mul.Mul'> \u001b[0m                         \u001b[100m <class 'sympy.core.mul.Mul'> \u001b[0m                                     \n",
      "     ┌────────┴────────┐                  ┌──────────────────────────┴──────────────────────────┐                         \n",
      "    \u001b[100m 5 \u001b[0m \u001b[100m <class 'sympy.core.power.Pow'> \u001b[0m \u001b[100m 1 \u001b[0m                                     \u001b[100m <class 'sympy.core.power.Pow'> \u001b[0m         \n",
      "                     ┌─┴─┐                                                ┌─────────────────────┴──────────────────────┐  \n",
      "                    \u001b[100m 2 \u001b[0m \u001b[100m -1 \u001b[0m                               \u001b[100m <class 'sympy.core.power.Pow'> \u001b[0m                           \u001b[100m -1 \u001b[0m\n",
      "                                                           ┌──────────────┴───────────────┐                               \n",
      "                                             \u001b[100m <class 'sympy.core.add.Add'> \u001b[0m \u001b[100m <class 'sympy.core.mul.Mul'> \u001b[0m                \n",
      "                                                         ┌─┴─┐                   ┌────────┴─────────┐                     \n",
      "                                                        \u001b[100m p \u001b[0m \u001b[100m r \u001b[0m                 \u001b[100m 11 \u001b[0m \u001b[100m <class 'sympy.core.power.Pow'> \u001b[0m     \n",
      "                                                                                                  ┌─┴─┐                   \n",
      "                                                                                                 \u001b[100m 2 \u001b[0m \u001b[100m -1 \u001b[0m\n",
      "                                     \u001b[100m <class 'sympy.core.add.Add'> \u001b[0m\n",
      "                   ┌───────────────────────────────┴────────────────────────────────┐\n",
      "     \u001b[100m <class 'sympy.core.mul.Mul'> \u001b[0m                                   \u001b[100m <class 'sympy.core.mul.Mul'> \u001b[0m                                     \n",
      " ┌───────────┬─────┴──────────────────┐                  ┌──────────────────────────┴──────────────────────────┐                         \n",
      "\u001b[100m -1 \u001b[0m \u001b[100m 189168519186093 \u001b[0m \u001b[100m <class 'sympy.core.power.Pow'> \u001b[0m \u001b[100m 1 \u001b[0m                                     \u001b[100m <class 'sympy.core.power.Pow'> \u001b[0m         \n",
      "                                 ┌────┴─────┐                                            ┌─────────────────────┴──────────────────────┐  \n",
      "                         \u001b[100m 500000000000000 \u001b[0m \u001b[100m -1 \u001b[0m                           \u001b[100m <class 'sympy.core.power.Pow'> \u001b[0m                           \u001b[100m -1 \u001b[0m\n",
      "                                                                          ┌──────────────┴───────────────┐                               \n",
      "                                                            \u001b[100m <class 'sympy.core.add.Add'> \u001b[0m \u001b[100m <class 'sympy.core.mul.Mul'> \u001b[0m                \n",
      "                                                                        ┌─┴─┐                   ┌────────┴─────────┐                     \n",
      "                                                                       \u001b[100m p \u001b[0m \u001b[100m r \u001b[0m                 \u001b[100m 11 \u001b[0m \u001b[100m <class 'sympy.core.power.Pow'> \u001b[0m     \n",
      "                                                                                                                 ┌─┴─┐                   \n",
      "                                                                                                                \u001b[100m 2 \u001b[0m \u001b[100m -1 \u001b[0m\n"
     ]
    },
    {
     "data": {
      "text/plain": [
       "Unnamed: 0                                                    1\n",
       "expr_l                                  5/2 + 1/(p + r)**(11/2)\n",
       "expr_r        -1*189168519186093/500000000000000 + 1/(p + r)...\n",
       "score                                                        24\n",
       "tree_l             <main.TreeNode object at 0x00000253244833A0>\n",
       "tree_r             <main.TreeNode object at 0x0000025324529C00>\n",
       "tree_score                                                  3.0\n",
       "Name: 1, dtype: object"
      ]
     },
     "execution_count": 20,
     "metadata": {},
     "output_type": "execute_result"
    }
   ],
   "source": [
    "pt(df_test.iloc[1][\"tree_l\"])\n",
    "pt(df_test.iloc[1][\"tree_r\"])\n",
    "df_test.iloc[1]"
   ]
  },
  {
   "cell_type": "code",
   "execution_count": 21,
   "metadata": {},
   "outputs": [
    {
     "name": "stdout",
     "output_type": "stream",
     "text": [
      "            \u001b[100m exp \u001b[0m\n",
      "              |\n",
      "\u001b[100m <class 'sympy.core.mul.Mul'> \u001b[0m\n",
      "   ┌────┬─────┴───────────┐\n",
      "  \u001b[100m -1 \u001b[0m \u001b[100m i \u001b[0m \u001b[100m <class 'sympy.core.power.Pow'> \u001b[0m\n",
      "                        ┌─┴──┐             \n",
      "                       \u001b[100m 32 \u001b[0m \u001b[100m -1 \u001b[0m\n",
      "            \u001b[100m exp \u001b[0m\n",
      "              |\n",
      "\u001b[100m <class 'sympy.core.mul.Mul'> \u001b[0m\n",
      "   ┌────┬─────┴───────────┐\n",
      "  \u001b[100m -1 \u001b[0m \u001b[100m i \u001b[0m \u001b[100m <class 'sympy.core.power.Pow'> \u001b[0m\n",
      "                        ┌─┴──┐             \n",
      "                       \u001b[100m 32 \u001b[0m \u001b[100m -1 \u001b[0m\n"
     ]
    },
    {
     "data": {
      "text/plain": [
       "Unnamed: 0                                              17\n",
       "expr_l                                        exp(-1*i/32)\n",
       "expr_r                                        exp(-1*i/32)\n",
       "score                                                   24\n",
       "tree_l        <main.TreeNode object at 0x00000253244EB1C0>\n",
       "tree_r        <main.TreeNode object at 0x000002532451C460>\n",
       "tree_score                                             0.0\n",
       "Name: 17, dtype: object"
      ]
     },
     "execution_count": 21,
     "metadata": {},
     "output_type": "execute_result"
    }
   ],
   "source": [
    "pt(df_test.iloc[17][\"tree_r\"])\n",
    "pt(df_test.iloc[17][\"tree_l\"])\n",
    "df_test.iloc[17]#[[\"expr_l\", \"expr_r\", \"tree_l\", \"tree_r\"]]"
   ]
  },
  {
   "cell_type": "markdown",
   "metadata": {},
   "source": [
    "#### Testing extreme cases"
   ]
  },
  {
   "cell_type": "code",
   "execution_count": 22,
   "metadata": {},
   "outputs": [],
   "source": [
    "# Latex string data\n",
    "\n",
    "lim_expr1 = r\"\\lim_{x \\to \\infty} \\frac{1}{x}\"\n",
    "lim_expr2 = r\"\\lim_{x \\to 0} \\frac{10}{x}\"\n",
    "lim_expr3 = r\"\\lim_{x \\to \\infty} \\cos(x)\" "
   ]
  },
  {
   "cell_type": "code",
   "execution_count": 23,
   "metadata": {},
   "outputs": [
    {
     "data": {
      "text/plain": [
       "(0, oo, AccumBounds(-1, 1))"
      ]
     },
     "execution_count": 23,
     "metadata": {},
     "output_type": "execute_result"
    }
   ],
   "source": [
    "simplify_latex_expression(lim_expr1), simplify_latex_expression(lim_expr2), simplify_latex_expression(lim_expr3) "
   ]
  }
 ],
 "metadata": {
  "kernelspec": {
   "display_name": "Python 3",
   "language": "python",
   "name": "python3"
  },
  "language_info": {
   "codemirror_mode": {
    "name": "ipython",
    "version": 3
   },
   "file_extension": ".py",
   "mimetype": "text/x-python",
   "name": "python",
   "nbconvert_exporter": "python",
   "pygments_lexer": "ipython3",
   "version": "3.10.5"
  }
 },
 "nbformat": 4,
 "nbformat_minor": 2
}
