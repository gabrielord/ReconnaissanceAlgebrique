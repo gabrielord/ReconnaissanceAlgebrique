{
 "cells": [
  {
   "cell_type": "code",
   "execution_count": 1,
   "metadata": {},
   "outputs": [],
   "source": [
    "import json\n",
    "\n",
    "f = open('test_datagen.json', 'r')\n",
    "\n",
    "data = json.load(f)"
   ]
  },
  {
   "cell_type": "code",
   "execution_count": 12,
   "metadata": {},
   "outputs": [
    {
     "data": {
      "text/plain": [
       "{'val': 'POW',\n",
       " 'id': 1,\n",
       " 'children': [{'val': '7.0', 'id': 3},\n",
       "  {'val': 'POW',\n",
       "   'id': 4,\n",
       "   'children': [{'val': '7.0', 'id': 9},\n",
       "    {'val': 'POW',\n",
       "     'id': 10,\n",
       "     'children': [{'val': '-9.5', 'id': 21}, {'val': 'k', 'id': 22}]}]}]}"
      ]
     },
     "execution_count": 12,
     "metadata": {},
     "output_type": "execute_result"
    }
   ],
   "source": [
    "data[0]['expr_l']"
   ]
  },
  {
   "cell_type": "code",
   "execution_count": 3,
   "metadata": {},
   "outputs": [
    {
     "data": {
      "text/plain": [
       "{'expr_l': {'val': 'POW',\n",
       "  'id': 1,\n",
       "  'children': [{'val': '7.0', 'id': 3},\n",
       "   {'val': 'POW',\n",
       "    'id': 4,\n",
       "    'children': [{'val': '7.0', 'id': 9},\n",
       "     {'val': 'POW',\n",
       "      'id': 10,\n",
       "      'children': [{'val': '-9.5', 'id': 21}, {'val': 'k', 'id': 22}]}]}]},\n",
       " 'expr_r': {'val': 'POW',\n",
       "  'id': 1,\n",
       "  'children': [{'val': '7.0', 'id': 3},\n",
       "   {'val': 'POW',\n",
       "    'id': 4,\n",
       "    'children': [{'val': '7.0', 'id': 9},\n",
       "     {'val': 'POW',\n",
       "      'id': 10,\n",
       "      'children': [{'val': '-9.5', 'id': 21}, {'val': 'k', 'id': 22}]}]}]},\n",
       " 'score': 8}"
      ]
     },
     "execution_count": 3,
     "metadata": {},
     "output_type": "execute_result"
    }
   ],
   "source": [
    "class Tree:\n",
    "\n",
    "    def __init__(self, id, left, right):\n",
    "        self.id = id\n",
    "        self.left = left\n",
    "        self.right = right"
   ]
  }
 ],
 "metadata": {
  "kernelspec": {
   "display_name": "Python 3",
   "language": "python",
   "name": "python3"
  },
  "language_info": {
   "codemirror_mode": {
    "name": "ipython",
    "version": 3
   },
   "file_extension": ".py",
   "mimetype": "text/x-python",
   "name": "python",
   "nbconvert_exporter": "python",
   "pygments_lexer": "ipython3",
   "version": "3.10.12"
  }
 },
 "nbformat": 4,
 "nbformat_minor": 2
}
